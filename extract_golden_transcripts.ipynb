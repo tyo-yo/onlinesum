{
 "cells": [
  {
   "cell_type": "code",
   "execution_count": 1,
   "id": "02a9fccc-82a6-46a4-84d9-38b605c163ea",
   "metadata": {},
   "outputs": [],
   "source": [
    "import xml.etree.ElementTree as ET"
   ]
  },
  {
   "cell_type": "code",
   "execution_count": 2,
   "id": "b7170a85-0473-47a8-8015-8718d8beae71",
   "metadata": {},
   "outputs": [],
   "source": [
    "#xmlデータを読み込みます\n",
    "tree = ET.parse('data/Hazumi/Hazumi1911/elan/1911F2002.eaf')\n",
    "#一番上の階層の要素を取り出します\n",
    "root = tree.getroot()"
   ]
  },
  {
   "cell_type": "code",
   "execution_count": 18,
   "id": "4aeef10b-3b4c-4823-9e58-f6b271167d29",
   "metadata": {},
   "outputs": [
    {
     "name": "stdout",
     "output_type": "stream",
     "text": [
      "HEADER {'MEDIA_FILE': '', 'TIME_UNITS': 'milliseconds'}\n",
      "TIME_ORDER {}\n",
      "TIER {'DEFAULT_LOCALE': 'us', 'LINGUISTIC_TYPE_REF': 'default', 'TIER_ID': 'TC_F1'}\n",
      "TIER {'DEFAULT_LOCALE': 'us', 'LINGUISTIC_TYPE_REF': 'default', 'TIER_ID': 'TC_F2'}\n",
      "TIER {'DEFAULT_LOCALE': 'us', 'LINGUISTIC_TYPE_REF': 'default', 'TIER_ID': 'TC_F3'}\n",
      "TIER {'DEFAULT_LOCALE': 'us', 'LINGUISTIC_TYPE_REF': 'default', 'TIER_ID': 'TC_F4'}\n",
      "TIER {'DEFAULT_LOCALE': 'us', 'LINGUISTIC_TYPE_REF': 'default', 'TIER_ID': 'TC_M1'}\n",
      "TIER {'DEFAULT_LOCALE': 'us', 'LINGUISTIC_TYPE_REF': 'default', 'TIER_ID': 'UI_F1'}\n",
      "TIER {'DEFAULT_LOCALE': 'us', 'LINGUISTIC_TYPE_REF': 'default', 'TIER_ID': 'UI_F2'}\n",
      "TIER {'DEFAULT_LOCALE': 'us', 'LINGUISTIC_TYPE_REF': 'default', 'TIER_ID': 'UI_F3'}\n",
      "TIER {'DEFAULT_LOCALE': 'us', 'LINGUISTIC_TYPE_REF': 'default', 'TIER_ID': 'UI_F4'}\n",
      "TIER {'DEFAULT_LOCALE': 'us', 'LINGUISTIC_TYPE_REF': 'default', 'TIER_ID': 'UI_M1'}\n",
      "TIER {'DEFAULT_LOCALE': 'us', 'LINGUISTIC_TYPE_REF': 'default', 'TIER_ID': 'sys_utterance'}\n",
      "TIER {'DEFAULT_LOCALE': 'us', 'LINGUISTIC_TYPE_REF': 'default', 'TIER_ID': 'user_utterance'}\n",
      "TIER {'DEFAULT_LOCALE': 'us', 'LINGUISTIC_TYPE_REF': 'default', 'TIER_ID': 'dialogue_act'}\n",
      "TIER {'DEFAULT_LOCALE': 'us', 'LINGUISTIC_TYPE_REF': 'default', 'TIER_ID': 'UI_self'}\n",
      "LINGUISTIC_TYPE {'GRAPHIC_REFERENCES': 'false', 'LINGUISTIC_TYPE_ID': 'default', 'TIME_ALIGNABLE': 'true'}\n",
      "LOCALE {'COUNTRY_CODE': 'EN', 'LANGUAGE_CODE': 'us'}\n",
      "CONSTRAINT {'DESCRIPTION': \"Time subdivision of parent annotation's time interval, no time gaps allowed within this interval\", 'STEREOTYPE': 'Time_Subdivision'}\n",
      "CONSTRAINT {'DESCRIPTION': 'Symbolic subdivision of a parent annotation. Annotations refering to the same parent are ordered', 'STEREOTYPE': 'Symbolic_Subdivision'}\n",
      "CONSTRAINT {'DESCRIPTION': '1-1 association with a parent annotation', 'STEREOTYPE': 'Symbolic_Association'}\n",
      "CONSTRAINT {'DESCRIPTION': \"Time alignable annotations within the parent annotation's time interval, gaps are allowed\", 'STEREOTYPE': 'Included_In'}\n"
     ]
    }
   ],
   "source": [
    "sys_utterances, user_utterances = [], []\n",
    "\n",
    "for child in root:\n",
    "    print(child.tag, child.attrib)\n",
    "\n",
    "    if child.attrib.get('TIER_ID') == 'sys_utterance':\n",
    "        for annotation in child:\n",
    "            for alignable_annotation in annotation:\n",
    "                for annoation_value in alignable_annotation:\n",
    "                    sys_utterances.append(annoation_value.text)\n",
    "\n",
    "    if child.attrib.get('TIER_ID') == 'user_utterance':\n",
    "        for annotation in child:\n",
    "            for alignable_annotation in annotation:\n",
    "                for annoation_value in alignable_annotation:\n",
    "                    user_utterances.append(annoation_value.text)"
   ]
  },
  {
   "cell_type": "code",
   "execution_count": 19,
   "id": "64ee4c36-04b0-46e0-93aa-0231520ca6ed",
   "metadata": {},
   "outputs": [
    {
     "data": {
      "text/plain": [
       "(113, 113)"
      ]
     },
     "execution_count": 19,
     "metadata": {},
     "output_type": "execute_result"
    }
   ],
   "source": [
    "len(sys_utterances), len(user_utterances)"
   ]
  },
  {
   "cell_type": "code",
   "execution_count": 20,
   "id": "9a419547-c809-42a7-bc44-0ecaf0304915",
   "metadata": {},
   "outputs": [
    {
     "data": {
      "text/plain": [
       "[(' これから本番の収録を開始します。', None),\n",
       " (' はじめまして・・私の名前は「メイ」です。「対話の実験」の手伝いをしています。今日はよろしくお願いします。', 'よろしくお願いします'),\n",
       " (' きょうはここまでなにで来られましたか？乗り物は乗りましたか？', 'そうですね|電車で|来て歩いて来ました'),\n",
       " (' ここに来るまで迷いませんでしたか・・', 'ここに来るまでは人に教えてもらったので|迷いませんでした'),\n",
       " (' 大学の中でも、たてものが奥にあるので、みなさん来るのが「たいへん」でしたとよく言われます・・',\n",
       "  '(F あー)そうなんですか|確かに奥にありました')]"
      ]
     },
     "execution_count": 20,
     "metadata": {},
     "output_type": "execute_result"
    }
   ],
   "source": [
    "list(zip(sys_utterances, user_utterances))[:5]"
   ]
  },
  {
   "cell_type": "code",
   "execution_count": 24,
   "id": "4e828020-d716-482b-80bb-cecb5cf92d35",
   "metadata": {},
   "outputs": [],
   "source": [
    "import jsonlines\n",
    "\n",
    "\n",
    "with jsonlines.open('data/golden_transcripts/1911F2002.jsonl', 'w') as writer:\n",
    "    for sys_utt, user_utt in zip(sys_utterances, user_utterances):\n",
    "        if sys_utt is not None:\n",
    "            writer.write({'transcript': sys_utt, 'speaker': 'sys'})\n",
    "\n",
    "        if user_utt is not None:\n",
    "            writer.write({'transcript': user_utt, 'speaker': 'user'})"
   ]
  },
  {
   "cell_type": "code",
   "execution_count": null,
   "id": "130bcf32-68b0-4a42-92cc-835721cfdb97",
   "metadata": {},
   "outputs": [],
   "source": []
  }
 ],
 "metadata": {
  "kernelspec": {
   "display_name": "Python 3 (ipykernel)",
   "language": "python",
   "name": "python3"
  },
  "language_info": {
   "codemirror_mode": {
    "name": "ipython",
    "version": 3
   },
   "file_extension": ".py",
   "mimetype": "text/x-python",
   "name": "python",
   "nbconvert_exporter": "python",
   "pygments_lexer": "ipython3",
   "version": "3.7.6"
  }
 },
 "nbformat": 4,
 "nbformat_minor": 5
}
